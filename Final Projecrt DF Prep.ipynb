{
 "cells": [
  {
   "cell_type": "code",
   "execution_count": 1,
   "metadata": {},
   "outputs": [],
   "source": [
    "from convokit import Corpus, download"
   ]
  },
  {
   "cell_type": "code",
   "execution_count": 2,
   "metadata": {},
   "outputs": [
    {
     "name": "stdout",
     "output_type": "stream",
     "text": [
      "Downloading movie-corpus to /Users/zediwan/.convokit/downloads/movie-corpus\n",
      "Downloading movie-corpus from http://zissou.infosci.cornell.edu/convokit/datasets/movie-corpus/movie-corpus.zip (40.9MB)... Done\n"
     ]
    }
   ],
   "source": [
    "corpus = Corpus(filename=download(\"movie-corpus\"))"
   ]
  },
  {
   "cell_type": "code",
   "execution_count": 3,
   "metadata": {},
   "outputs": [
    {
     "name": "stdout",
     "output_type": "stream",
     "text": [
      "Number of Speakers: 9035\n",
      "Number of Utterances: 304713\n",
      "Number of Conversations: 83097\n"
     ]
    }
   ],
   "source": [
    "corpus.print_summary_stats()"
   ]
  },
  {
   "cell_type": "code",
   "execution_count": 4,
   "metadata": {},
   "outputs": [
    {
     "data": {
      "text/html": [
       "<div>\n",
       "<style scoped>\n",
       "    .dataframe tbody tr th:only-of-type {\n",
       "        vertical-align: middle;\n",
       "    }\n",
       "\n",
       "    .dataframe tbody tr th {\n",
       "        vertical-align: top;\n",
       "    }\n",
       "\n",
       "    .dataframe thead th {\n",
       "        text-align: right;\n",
       "    }\n",
       "</style>\n",
       "<table border=\"1\" class=\"dataframe\">\n",
       "  <thead>\n",
       "    <tr style=\"text-align: right;\">\n",
       "      <th></th>\n",
       "      <th>vectors</th>\n",
       "      <th>meta.movie_idx</th>\n",
       "      <th>meta.movie_name</th>\n",
       "      <th>meta.release_year</th>\n",
       "      <th>meta.rating</th>\n",
       "      <th>meta.votes</th>\n",
       "      <th>meta.genre</th>\n",
       "    </tr>\n",
       "    <tr>\n",
       "      <th>id</th>\n",
       "      <th></th>\n",
       "      <th></th>\n",
       "      <th></th>\n",
       "      <th></th>\n",
       "      <th></th>\n",
       "      <th></th>\n",
       "      <th></th>\n",
       "    </tr>\n",
       "  </thead>\n",
       "  <tbody>\n",
       "    <tr>\n",
       "      <th>L1044</th>\n",
       "      <td>[]</td>\n",
       "      <td>m0</td>\n",
       "      <td>10 things i hate about you</td>\n",
       "      <td>1999</td>\n",
       "      <td>6.90</td>\n",
       "      <td>62847</td>\n",
       "      <td>['comedy', 'romance']</td>\n",
       "    </tr>\n",
       "    <tr>\n",
       "      <th>L984</th>\n",
       "      <td>[]</td>\n",
       "      <td>m0</td>\n",
       "      <td>10 things i hate about you</td>\n",
       "      <td>1999</td>\n",
       "      <td>6.90</td>\n",
       "      <td>62847</td>\n",
       "      <td>['comedy', 'romance']</td>\n",
       "    </tr>\n",
       "    <tr>\n",
       "      <th>L924</th>\n",
       "      <td>[]</td>\n",
       "      <td>m0</td>\n",
       "      <td>10 things i hate about you</td>\n",
       "      <td>1999</td>\n",
       "      <td>6.90</td>\n",
       "      <td>62847</td>\n",
       "      <td>['comedy', 'romance']</td>\n",
       "    </tr>\n",
       "    <tr>\n",
       "      <th>L870</th>\n",
       "      <td>[]</td>\n",
       "      <td>m0</td>\n",
       "      <td>10 things i hate about you</td>\n",
       "      <td>1999</td>\n",
       "      <td>6.90</td>\n",
       "      <td>62847</td>\n",
       "      <td>['comedy', 'romance']</td>\n",
       "    </tr>\n",
       "    <tr>\n",
       "      <th>L866</th>\n",
       "      <td>[]</td>\n",
       "      <td>m0</td>\n",
       "      <td>10 things i hate about you</td>\n",
       "      <td>1999</td>\n",
       "      <td>6.90</td>\n",
       "      <td>62847</td>\n",
       "      <td>['comedy', 'romance']</td>\n",
       "    </tr>\n",
       "    <tr>\n",
       "      <th>...</th>\n",
       "      <td>...</td>\n",
       "      <td>...</td>\n",
       "      <td>...</td>\n",
       "      <td>...</td>\n",
       "      <td>...</td>\n",
       "      <td>...</td>\n",
       "      <td>...</td>\n",
       "    </tr>\n",
       "    <tr>\n",
       "      <th>L666324</th>\n",
       "      <td>[]</td>\n",
       "      <td>m616</td>\n",
       "      <td>zulu dawn</td>\n",
       "      <td>1979</td>\n",
       "      <td>6.40</td>\n",
       "      <td>1911</td>\n",
       "      <td>['action', 'adventure', 'drama', 'history', 'w...</td>\n",
       "    </tr>\n",
       "    <tr>\n",
       "      <th>L666262</th>\n",
       "      <td>[]</td>\n",
       "      <td>m616</td>\n",
       "      <td>zulu dawn</td>\n",
       "      <td>1979</td>\n",
       "      <td>6.40</td>\n",
       "      <td>1911</td>\n",
       "      <td>['action', 'adventure', 'drama', 'history', 'w...</td>\n",
       "    </tr>\n",
       "    <tr>\n",
       "      <th>L666520</th>\n",
       "      <td>[]</td>\n",
       "      <td>m616</td>\n",
       "      <td>zulu dawn</td>\n",
       "      <td>1979</td>\n",
       "      <td>6.40</td>\n",
       "      <td>1911</td>\n",
       "      <td>['action', 'adventure', 'drama', 'history', 'w...</td>\n",
       "    </tr>\n",
       "    <tr>\n",
       "      <th>L666369</th>\n",
       "      <td>[]</td>\n",
       "      <td>m616</td>\n",
       "      <td>zulu dawn</td>\n",
       "      <td>1979</td>\n",
       "      <td>6.40</td>\n",
       "      <td>1911</td>\n",
       "      <td>['action', 'adventure', 'drama', 'history', 'w...</td>\n",
       "    </tr>\n",
       "    <tr>\n",
       "      <th>L666256</th>\n",
       "      <td>[]</td>\n",
       "      <td>m616</td>\n",
       "      <td>zulu dawn</td>\n",
       "      <td>1979</td>\n",
       "      <td>6.40</td>\n",
       "      <td>1911</td>\n",
       "      <td>['action', 'adventure', 'drama', 'history', 'w...</td>\n",
       "    </tr>\n",
       "  </tbody>\n",
       "</table>\n",
       "<p>83097 rows × 7 columns</p>\n",
       "</div>"
      ],
      "text/plain": [
       "        vectors meta.movie_idx             meta.movie_name meta.release_year  \\\n",
       "id                                                                             \n",
       "L1044        []             m0  10 things i hate about you              1999   \n",
       "L984         []             m0  10 things i hate about you              1999   \n",
       "L924         []             m0  10 things i hate about you              1999   \n",
       "L870         []             m0  10 things i hate about you              1999   \n",
       "L866         []             m0  10 things i hate about you              1999   \n",
       "...         ...            ...                         ...               ...   \n",
       "L666324      []           m616                   zulu dawn              1979   \n",
       "L666262      []           m616                   zulu dawn              1979   \n",
       "L666520      []           m616                   zulu dawn              1979   \n",
       "L666369      []           m616                   zulu dawn              1979   \n",
       "L666256      []           m616                   zulu dawn              1979   \n",
       "\n",
       "        meta.rating meta.votes  \\\n",
       "id                               \n",
       "L1044          6.90      62847   \n",
       "L984           6.90      62847   \n",
       "L924           6.90      62847   \n",
       "L870           6.90      62847   \n",
       "L866           6.90      62847   \n",
       "...             ...        ...   \n",
       "L666324        6.40       1911   \n",
       "L666262        6.40       1911   \n",
       "L666520        6.40       1911   \n",
       "L666369        6.40       1911   \n",
       "L666256        6.40       1911   \n",
       "\n",
       "                                                meta.genre  \n",
       "id                                                          \n",
       "L1044                                ['comedy', 'romance']  \n",
       "L984                                 ['comedy', 'romance']  \n",
       "L924                                 ['comedy', 'romance']  \n",
       "L870                                 ['comedy', 'romance']  \n",
       "L866                                 ['comedy', 'romance']  \n",
       "...                                                    ...  \n",
       "L666324  ['action', 'adventure', 'drama', 'history', 'w...  \n",
       "L666262  ['action', 'adventure', 'drama', 'history', 'w...  \n",
       "L666520  ['action', 'adventure', 'drama', 'history', 'w...  \n",
       "L666369  ['action', 'adventure', 'drama', 'history', 'w...  \n",
       "L666256  ['action', 'adventure', 'drama', 'history', 'w...  \n",
       "\n",
       "[83097 rows x 7 columns]"
      ]
     },
     "execution_count": 4,
     "metadata": {},
     "output_type": "execute_result"
    }
   ],
   "source": [
    "df_conversations = corpus.get_conversations_dataframe()\n",
    "df_conversations"
   ]
  },
  {
   "cell_type": "code",
   "execution_count": 5,
   "metadata": {},
   "outputs": [],
   "source": [
    "cs = corpus.conversations.values()\n",
    "all_convos = []\n",
    "for conv in cs:\n",
    "    text_vector = ([utt.text for utt in conv.traverse('preorder')])\n",
    "    text = \"\"\n",
    "    for sentence in text_vector:\n",
    "        text += sentence + \", \"\n",
    "    #print(text)\n",
    "    info = [conv.id, text, conv.meta[\"movie_name\"], conv.meta[\"movie_idx\"], conv.meta[\"release_year\"], conv.meta[\"genre\"]]\n",
    "    #print(info)\n",
    "    all_convos.append(info)"
   ]
  },
  {
   "cell_type": "code",
   "execution_count": 6,
   "metadata": {},
   "outputs": [
    {
     "name": "stdout",
     "output_type": "stream",
     "text": [
      "['L191648', \"Commander Skywalker hasn't come through the south entrance, sir. Maybe he slipped by without checking in., Not likely!  Where are the speeders?, We haven't got them adapted to this cold yet ..., We'll have to go out on Tauntauns., The temperature is dropping too fast., You bet it is ... and Luke's out in it., \", 'm337', 'star wars: the empire strikes back', '1982', \"['animation', 'adventure', 'action', 'fantasy']\"]\n"
     ]
    }
   ],
   "source": [
    "# DEPRECATED TESTING CODE FOR SINGLE CONVERSATION\n",
    "\n",
    "random_convo = corpus.random_conversation()\n",
    "#random_convo.print_conversation_structure(lambda utt: utt.text[:]+ \"\\n\")\n",
    "text_vector = ([utt.text for utt in random_convo.traverse('preorder')])\n",
    "text = \"\"\n",
    "for sentence in text_vector:\n",
    "        text += sentence + \", \"\n",
    "\n",
    "#print(text)\n",
    "info = [random_convo.id, text, random_convo.meta[\"movie_idx\"], random_convo.meta[\"movie_name\"], random_convo.meta[\"release_year\"], random_convo.meta[\"genre\"]]\n",
    "print(info)"
   ]
  },
  {
   "cell_type": "code",
   "execution_count": 7,
   "metadata": {},
   "outputs": [
    {
     "name": "stdout",
     "output_type": "stream",
     "text": [
      "Conversation('id': 'L191648', 'utterances': ['L191653', 'L191652', 'L191651', 'L191650', 'L191649', 'L191648'], 'meta': ConvoKitMeta({'movie_idx': 'm337', 'movie_name': 'star wars: the empire strikes back', 'release_year': '1982', 'rating': '8.00', 'votes': '42', 'genre': \"['animation', 'adventure', 'action', 'fantasy']\"}))\n"
     ]
    }
   ],
   "source": [
    "# DEPRECATED TESTING CODE FOR SINGLE CONVERSATION\n",
    "\n",
    "print(random_convo)"
   ]
  },
  {
   "cell_type": "code",
   "execution_count": 8,
   "metadata": {},
   "outputs": [],
   "source": [
    "import pandas"
   ]
  },
  {
   "cell_type": "code",
   "execution_count": 9,
   "metadata": {},
   "outputs": [],
   "source": [
    "columns = [\"Conversation ID\", \"Text\", \"Movie Title\", \"Movie ID\", \"Release Year\", \"Genre\"]"
   ]
  },
  {
   "cell_type": "code",
   "execution_count": 10,
   "metadata": {},
   "outputs": [
    {
     "data": {
      "text/html": [
       "<div>\n",
       "<style scoped>\n",
       "    .dataframe tbody tr th:only-of-type {\n",
       "        vertical-align: middle;\n",
       "    }\n",
       "\n",
       "    .dataframe tbody tr th {\n",
       "        vertical-align: top;\n",
       "    }\n",
       "\n",
       "    .dataframe thead th {\n",
       "        text-align: right;\n",
       "    }\n",
       "</style>\n",
       "<table border=\"1\" class=\"dataframe\">\n",
       "  <thead>\n",
       "    <tr style=\"text-align: right;\">\n",
       "      <th></th>\n",
       "      <th>Conversation ID</th>\n",
       "      <th>Text</th>\n",
       "      <th>Movie Title</th>\n",
       "      <th>Movie ID</th>\n",
       "      <th>Release Year</th>\n",
       "      <th>Genre</th>\n",
       "    </tr>\n",
       "  </thead>\n",
       "  <tbody>\n",
       "    <tr>\n",
       "      <th>0</th>\n",
       "      <td>L1044</td>\n",
       "      <td>They do to!, They do not!,</td>\n",
       "      <td>10 things i hate about you</td>\n",
       "      <td>m0</td>\n",
       "      <td>1999</td>\n",
       "      <td>['comedy', 'romance']</td>\n",
       "    </tr>\n",
       "    <tr>\n",
       "      <th>1</th>\n",
       "      <td>L984</td>\n",
       "      <td>She okay?, I hope so.,</td>\n",
       "      <td>10 things i hate about you</td>\n",
       "      <td>m0</td>\n",
       "      <td>1999</td>\n",
       "      <td>['comedy', 'romance']</td>\n",
       "    </tr>\n",
       "    <tr>\n",
       "      <th>2</th>\n",
       "      <td>L924</td>\n",
       "      <td>Wow, Let's go.,</td>\n",
       "      <td>10 things i hate about you</td>\n",
       "      <td>m0</td>\n",
       "      <td>1999</td>\n",
       "      <td>['comedy', 'romance']</td>\n",
       "    </tr>\n",
       "    <tr>\n",
       "      <th>3</th>\n",
       "      <td>L870</td>\n",
       "      <td>I'm kidding.  You know how sometimes you just ...</td>\n",
       "      <td>10 things i hate about you</td>\n",
       "      <td>m0</td>\n",
       "      <td>1999</td>\n",
       "      <td>['comedy', 'romance']</td>\n",
       "    </tr>\n",
       "    <tr>\n",
       "      <th>4</th>\n",
       "      <td>L866</td>\n",
       "      <td>I figured you'd get to the good stuff eventual...</td>\n",
       "      <td>10 things i hate about you</td>\n",
       "      <td>m0</td>\n",
       "      <td>1999</td>\n",
       "      <td>['comedy', 'romance']</td>\n",
       "    </tr>\n",
       "  </tbody>\n",
       "</table>\n",
       "</div>"
      ],
      "text/plain": [
       "  Conversation ID                                               Text  \\\n",
       "0           L1044                        They do to!, They do not!,    \n",
       "1            L984                            She okay?, I hope so.,    \n",
       "2            L924                                   Wow, Let's go.,    \n",
       "3            L870  I'm kidding.  You know how sometimes you just ...   \n",
       "4            L866  I figured you'd get to the good stuff eventual...   \n",
       "\n",
       "                  Movie Title Movie ID Release Year                  Genre  \n",
       "0  10 things i hate about you       m0         1999  ['comedy', 'romance']  \n",
       "1  10 things i hate about you       m0         1999  ['comedy', 'romance']  \n",
       "2  10 things i hate about you       m0         1999  ['comedy', 'romance']  \n",
       "3  10 things i hate about you       m0         1999  ['comedy', 'romance']  \n",
       "4  10 things i hate about you       m0         1999  ['comedy', 'romance']  "
      ]
     },
     "execution_count": 10,
     "metadata": {},
     "output_type": "execute_result"
    }
   ],
   "source": [
    "df = pandas.DataFrame(all_convos, columns=columns)\n",
    "df.head()"
   ]
  },
  {
   "cell_type": "code",
   "execution_count": null,
   "metadata": {},
   "outputs": [],
   "source": [
    "path = \"/Users/zediwan/Documents/[03] University/[06] FS24/Text as Data and Automated Content Analysis/[04] Assignments/Final Project\"\n",
    "df.to_csv(path_or_buf=path)"
   ]
  }
 ],
 "metadata": {
  "kernelspec": {
   "display_name": "base",
   "language": "python",
   "name": "python3"
  },
  "language_info": {
   "codemirror_mode": {
    "name": "ipython",
    "version": 3
   },
   "file_extension": ".py",
   "mimetype": "text/x-python",
   "name": "python",
   "nbconvert_exporter": "python",
   "pygments_lexer": "ipython3",
   "version": "3.11.5"
  },
  "orig_nbformat": 4
 },
 "nbformat": 4,
 "nbformat_minor": 2
}
